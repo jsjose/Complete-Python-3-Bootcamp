{
 "cells": [
  {
   "cell_type": "markdown",
   "metadata": {},
   "source": [
    "# Advanced Modules Exercise Puzzle\n",
    "\n",
    "It's time to test your new skills, this puzzle project will combine multiple skills sets, including unzipping files with Python, using os module to automatically search through lots of files.\n",
    "\n",
    "## Your Goal\n",
    "\n",
    "This is a puzzle, so we don't want to give you too much guidance and instead have you figure out things on your own.\n",
    "\n",
    "There is a .zip file called 'unzip_me_for_instructions.zip', unzip it, open the .txt file with Python, read the instructions and see if you can figure out what you need to do!\n",
    "\n",
    "**If you get stuck or don't know where to start, here is a [guide/hints](https://docs.google.com/document/d/1JxydUr4n4fSR0EwwuwT-aHia-yPK6r-oTBuVT2sqheo/edit?usp=sharing)**"
   ]
  },
  {
   "cell_type": "code",
   "execution_count": 1,
   "metadata": {},
   "outputs": [],
   "source": [
    "import shutil"
   ]
  },
  {
   "cell_type": "code",
   "execution_count": 2,
   "metadata": {},
   "outputs": [
    {
     "data": {
      "text/plain": [
       "'D:\\\\Mis Documentos\\\\Google Drive\\\\Estudio - Libros\\\\python\\\\Complete Python Bootcamp\\\\Complete-Python-3-Bootcamp\\\\12-Advanced Python Modules\\\\08-Advanced-Python-Module-Exercise'"
      ]
     },
     "execution_count": 2,
     "metadata": {},
     "output_type": "execute_result"
    }
   ],
   "source": [
    "pwd"
   ]
  },
  {
   "cell_type": "code",
   "execution_count": 8,
   "metadata": {},
   "outputs": [],
   "source": [
    "file_to_unzip=\"unzip_me_for_instructions.zip\"\n",
    "dir_for_extract_result='pp'"
   ]
  },
  {
   "cell_type": "code",
   "execution_count": 9,
   "metadata": {},
   "outputs": [],
   "source": [
    "shutil.unpack_archive(file_to_unzip,dir_for_extract_result,'zip')"
   ]
  },
  {
   "cell_type": "code",
   "execution_count": 10,
   "metadata": {},
   "outputs": [],
   "source": [
    "import os"
   ]
  },
  {
   "cell_type": "code",
   "execution_count": 26,
   "metadata": {},
   "outputs": [],
   "source": [
    "dirini = \"extracted_content\""
   ]
  },
  {
   "cell_type": "code",
   "execution_count": 27,
   "metadata": {},
   "outputs": [],
   "source": [
    "listdir = os.listdir(dirini)"
   ]
  },
  {
   "cell_type": "code",
   "execution_count": 28,
   "metadata": {},
   "outputs": [
    {
     "data": {
      "text/plain": [
       "['Five', 'Four', 'Instructions.txt', 'One', 'Three', 'Two']"
      ]
     },
     "execution_count": 28,
     "metadata": {},
     "output_type": "execute_result"
    }
   ],
   "source": [
    "listdir"
   ]
  },
  {
   "cell_type": "code",
   "execution_count": 42,
   "metadata": {},
   "outputs": [],
   "source": [
    "listfile = []"
   ]
  },
  {
   "cell_type": "code",
   "execution_count": 43,
   "metadata": {},
   "outputs": [
    {
     "data": {
      "text/plain": [
       "[]"
      ]
     },
     "execution_count": 43,
     "metadata": {},
     "output_type": "execute_result"
    }
   ],
   "source": [
    "listfile"
   ]
  },
  {
   "cell_type": "code",
   "execution_count": 45,
   "metadata": {},
   "outputs": [
    {
     "name": "stdout",
     "output_type": "stream",
     "text": [
      "not a directory\n"
     ]
    }
   ],
   "source": [
    "for dir in listdir:\n",
    "    try:\n",
    "        templistfile = []\n",
    "        templistfile = os.listdir('.\\\\'+dirini+\"\\\\\"+dir)\n",
    "        for tempdir in  templistfile:\n",
    "            listfile.append('.\\\\'+dirini+\"\\\\\"+dir+\"\\\\\"+tempdir)\n",
    "    except:\n",
    "        print (\"not a directory\")"
   ]
  },
  {
   "cell_type": "code",
   "execution_count": 46,
   "metadata": {},
   "outputs": [
    {
     "data": {
      "text/plain": [
       "['.\\\\extracted_content\\\\Five\\\\AEITMYIRQLP.txt',\n",
       " '.\\\\extracted_content\\\\Five\\\\APJKSRITGGX.txt',\n",
       " '.\\\\extracted_content\\\\Five\\\\AQKATDFGXTS.txt',\n",
       " '.\\\\extracted_content\\\\Five\\\\ARLKFCWIAJE.txt',\n",
       " '.\\\\extracted_content\\\\Five\\\\AXJGVPVEFAS.txt',\n",
       " '.\\\\extracted_content\\\\Five\\\\BNUQEHCFRTG.txt',\n",
       " '.\\\\extracted_content\\\\Five\\\\BSKJDRNEZQM.txt',\n",
       " '.\\\\extracted_content\\\\Five\\\\BTYWAHLHKBM.txt',\n",
       " '.\\\\extracted_content\\\\Five\\\\BUGKBZWRRVI.txt',\n",
       " '.\\\\extracted_content\\\\Five\\\\BVBURZZCAPR.txt',\n",
       " '.\\\\extracted_content\\\\Five\\\\CAHBEVSVDDN.txt',\n",
       " '.\\\\extracted_content\\\\Five\\\\COMGMZBJAYE.txt',\n",
       " '.\\\\extracted_content\\\\Five\\\\CRFSDGYFSHA.txt',\n",
       " '.\\\\extracted_content\\\\Five\\\\CSCLFZCDYYC.txt',\n",
       " '.\\\\extracted_content\\\\Five\\\\CXBVCTRBBIE.txt',\n",
       " '.\\\\extracted_content\\\\Five\\\\DDLASODUVPX.txt',\n",
       " '.\\\\extracted_content\\\\Five\\\\DHZBAAYEADM.txt',\n",
       " '.\\\\extracted_content\\\\Five\\\\DQPZQLBCJYP.txt',\n",
       " '.\\\\extracted_content\\\\Five\\\\DYOPIIVMZOO.txt',\n",
       " '.\\\\extracted_content\\\\Five\\\\DZUWWXYIAEL.txt',\n",
       " '.\\\\extracted_content\\\\Five\\\\EAAOEPSAWMQ.txt',\n",
       " '.\\\\extracted_content\\\\Five\\\\EIPWXMQZJKU.txt',\n",
       " '.\\\\extracted_content\\\\Five\\\\ESIZWBHMGDP.txt',\n",
       " '.\\\\extracted_content\\\\Five\\\\ETCUEXWNBCF.txt',\n",
       " '.\\\\extracted_content\\\\Five\\\\EYTCGIOYWIW.txt',\n",
       " '.\\\\extracted_content\\\\Four\\\\ECIOBYCDVFI.txt',\n",
       " '.\\\\extracted_content\\\\Four\\\\EMTGPSXQEJX.txt',\n",
       " '.\\\\extracted_content\\\\Four\\\\EPRNUHRSESC.txt',\n",
       " '.\\\\extracted_content\\\\Four\\\\ESDIZXHYCVY.txt',\n",
       " '.\\\\extracted_content\\\\Four\\\\EXVQSVBQQQH.txt',\n",
       " '.\\\\extracted_content\\\\Four\\\\QCTCKDIBBVG.txt',\n",
       " '.\\\\extracted_content\\\\Four\\\\QCWCFLKNZMN.txt',\n",
       " '.\\\\extracted_content\\\\Four\\\\QDDETWBHJYC.txt',\n",
       " '.\\\\extracted_content\\\\Four\\\\QTDYYIFPHAU.txt',\n",
       " '.\\\\extracted_content\\\\Four\\\\QVNJULGXNUM.txt',\n",
       " '.\\\\extracted_content\\\\Four\\\\REAXWSOIQDY.txt',\n",
       " '.\\\\extracted_content\\\\Four\\\\ROICPTWKXDX.txt',\n",
       " '.\\\\extracted_content\\\\Four\\\\RSXOTNGKBML.txt',\n",
       " '.\\\\extracted_content\\\\Four\\\\RXDARIDGKBF.txt',\n",
       " '.\\\\extracted_content\\\\Four\\\\RYNXFYXMKHG.txt',\n",
       " '.\\\\extracted_content\\\\Four\\\\TAKNAVDMZKV.txt',\n",
       " '.\\\\extracted_content\\\\Four\\\\THPNEGKTJWI.txt',\n",
       " '.\\\\extracted_content\\\\Four\\\\TJFMLJODVAD.txt',\n",
       " '.\\\\extracted_content\\\\Four\\\\TKCZSFQNJTX.txt',\n",
       " '.\\\\extracted_content\\\\Four\\\\TWUOYFCCYBQ.txt',\n",
       " '.\\\\extracted_content\\\\Four\\\\WFSKPTXPFCH.txt',\n",
       " '.\\\\extracted_content\\\\Four\\\\WHTOHQUWXIN.txt',\n",
       " '.\\\\extracted_content\\\\Four\\\\WNJISWPEBRS.txt',\n",
       " '.\\\\extracted_content\\\\Four\\\\WXDJDOGZEHN.txt',\n",
       " '.\\\\extracted_content\\\\Four\\\\WYDLGSGGXKV.txt',\n",
       " '.\\\\extracted_content\\\\One\\\\HDOHZHFSTTK.txt',\n",
       " '.\\\\extracted_content\\\\One\\\\HFUTPPAXDIS.txt',\n",
       " '.\\\\extracted_content\\\\One\\\\HMNZTLIFGPD.txt',\n",
       " '.\\\\extracted_content\\\\One\\\\HRQFTHKVJTL.txt',\n",
       " '.\\\\extracted_content\\\\One\\\\HVUTZEVMSBW.txt',\n",
       " '.\\\\extracted_content\\\\One\\\\JDLRVFCXYLU.txt',\n",
       " '.\\\\extracted_content\\\\One\\\\JEHBLZPUPSP.txt',\n",
       " '.\\\\extracted_content\\\\One\\\\JLTXKIGCWDL.txt',\n",
       " '.\\\\extracted_content\\\\One\\\\JQUOBKFUACN.txt',\n",
       " '.\\\\extracted_content\\\\One\\\\JTHSNBNPQSE.txt',\n",
       " '.\\\\extracted_content\\\\One\\\\KCXGNQCZBLO.txt',\n",
       " '.\\\\extracted_content\\\\One\\\\KFIUZFERLET.txt',\n",
       " '.\\\\extracted_content\\\\One\\\\KMMLGJOWLGI.txt',\n",
       " '.\\\\extracted_content\\\\One\\\\KNBSKDREHQU.txt',\n",
       " '.\\\\extracted_content\\\\One\\\\KTXDHIOKAUI.txt',\n",
       " '.\\\\extracted_content\\\\One\\\\LDGOCUQJNNS.txt',\n",
       " '.\\\\extracted_content\\\\One\\\\LFEATJAAYDC.txt',\n",
       " '.\\\\extracted_content\\\\One\\\\LHODFIKVTQA.txt',\n",
       " '.\\\\extracted_content\\\\One\\\\LIFDHOFKWOI.txt',\n",
       " '.\\\\extracted_content\\\\One\\\\LPNDVDXPZIG.txt',\n",
       " '.\\\\extracted_content\\\\One\\\\PDJMSMNKIRM.txt',\n",
       " '.\\\\extracted_content\\\\One\\\\PHWAVPEKAER.txt',\n",
       " '.\\\\extracted_content\\\\One\\\\PLYCGPVEAWO.txt',\n",
       " '.\\\\extracted_content\\\\One\\\\PQNVCVJINAR.txt',\n",
       " '.\\\\extracted_content\\\\One\\\\PTOBBCJYURJ.txt',\n",
       " '.\\\\extracted_content\\\\Three\\\\VAQIJTDOFUJ.txt',\n",
       " '.\\\\extracted_content\\\\Three\\\\VCFJCGJFBIH.txt',\n",
       " '.\\\\extracted_content\\\\Three\\\\VSXFSTABZDY.txt',\n",
       " '.\\\\extracted_content\\\\Three\\\\VVHFVZUNLOO.txt',\n",
       " '.\\\\extracted_content\\\\Three\\\\VVKGWLRMHLU.txt',\n",
       " '.\\\\extracted_content\\\\Three\\\\XAJMCPEWFNI.txt',\n",
       " '.\\\\extracted_content\\\\Three\\\\XFHJOTNPEJG.txt',\n",
       " '.\\\\extracted_content\\\\Three\\\\XHZPVUQTXIO.txt',\n",
       " '.\\\\extracted_content\\\\Three\\\\XJCWENFFGHB.txt',\n",
       " '.\\\\extracted_content\\\\Three\\\\XVMPVSVYKFR.txt',\n",
       " '.\\\\extracted_content\\\\Three\\\\YCESZHJDBXH.txt',\n",
       " '.\\\\extracted_content\\\\Three\\\\YDQFMWXOUMW.txt',\n",
       " '.\\\\extracted_content\\\\Three\\\\YQBIUHSUEVW.txt',\n",
       " '.\\\\extracted_content\\\\Three\\\\YQRNCMNFFHW.txt',\n",
       " '.\\\\extracted_content\\\\Three\\\\YYIZGBTQHZP.txt',\n",
       " '.\\\\extracted_content\\\\Three\\\\ZEZKKRBIZEB.txt',\n",
       " '.\\\\extracted_content\\\\Three\\\\ZKQJXAYKPVD.txt',\n",
       " '.\\\\extracted_content\\\\Three\\\\ZOWVXWPOGWP.txt',\n",
       " '.\\\\extracted_content\\\\Three\\\\ZXEZRQXZNPG.txt',\n",
       " '.\\\\extracted_content\\\\Three\\\\ZXIBJMPROKW.txt',\n",
       " '.\\\\extracted_content\\\\Two\\\\GKQBQRCTNNK.txt',\n",
       " '.\\\\extracted_content\\\\Two\\\\GMMQQUBMJNR.txt',\n",
       " '.\\\\extracted_content\\\\Two\\\\GQTJJORZBXY.txt',\n",
       " '.\\\\extracted_content\\\\Two\\\\GTOTCIWMDBY.txt',\n",
       " '.\\\\extracted_content\\\\Two\\\\GXYSEPAFRTP.txt',\n",
       " '.\\\\extracted_content\\\\Two\\\\HARDNJGDRBC.txt',\n",
       " '.\\\\extracted_content\\\\Two\\\\HEORIXOTANT.txt',\n",
       " '.\\\\extracted_content\\\\Two\\\\HMUTDOVNYTV.txt',\n",
       " '.\\\\extracted_content\\\\Two\\\\HMZXPBOPRAE.txt',\n",
       " '.\\\\extracted_content\\\\Two\\\\HTOHSTYXTCO.txt',\n",
       " '.\\\\extracted_content\\\\Two\\\\LCJZYDHBFRM.txt',\n",
       " '.\\\\extracted_content\\\\Two\\\\LSQSTGPIGIY.txt',\n",
       " '.\\\\extracted_content\\\\Two\\\\LULTNYAQEJG.txt',\n",
       " '.\\\\extracted_content\\\\Two\\\\LVMBINRBJXL.txt',\n",
       " '.\\\\extracted_content\\\\Two\\\\LYZEQCVYNEZ.txt',\n",
       " '.\\\\extracted_content\\\\Two\\\\OHZOUOSFJQC.txt',\n",
       " '.\\\\extracted_content\\\\Two\\\\OIHMLGMWTHL.txt',\n",
       " '.\\\\extracted_content\\\\Two\\\\OKWFOOYTXFU.txt',\n",
       " '.\\\\extracted_content\\\\Two\\\\OMWIMVRCMYM.txt',\n",
       " '.\\\\extracted_content\\\\Two\\\\OYMAGXAGWHJ.txt',\n",
       " '.\\\\extracted_content\\\\Two\\\\SIKFPPLCJDN.txt',\n",
       " '.\\\\extracted_content\\\\Two\\\\SJMJLDGPBSJ.txt',\n",
       " '.\\\\extracted_content\\\\Two\\\\SOFUJYXTIMK.txt',\n",
       " '.\\\\extracted_content\\\\Two\\\\SPDZYGDHEWO.txt',\n",
       " '.\\\\extracted_content\\\\Two\\\\SWOFXREEHWA.txt']"
      ]
     },
     "execution_count": 46,
     "metadata": {},
     "output_type": "execute_result"
    }
   ],
   "source": [
    "listfile"
   ]
  },
  {
   "cell_type": "code",
   "execution_count": 47,
   "metadata": {},
   "outputs": [],
   "source": [
    "import re"
   ]
  },
  {
   "cell_type": "code",
   "execution_count": 61,
   "metadata": {},
   "outputs": [],
   "source": [
    "phone_pattern = re.compile(r'(\\d{3})-(\\d{3})-(\\d{4})')\n",
    "results = []\n",
    "for file in listfile:\n",
    "    f = open(file,'r')\n",
    "    text = f.read()\n",
    "    tempresults = re.search(phone_pattern,text)\n",
    "    if tempresults != None:\n",
    "        results.append(tempresults)\n",
    "    f.close()"
   ]
  },
  {
   "cell_type": "code",
   "execution_count": 62,
   "metadata": {},
   "outputs": [
    {
     "data": {
      "text/plain": [
       "list"
      ]
     },
     "execution_count": 62,
     "metadata": {},
     "output_type": "execute_result"
    }
   ],
   "source": [
    "type(results)"
   ]
  },
  {
   "cell_type": "code",
   "execution_count": 63,
   "metadata": {},
   "outputs": [
    {
     "data": {
      "text/plain": [
       "[<re.Match object; span=(1062, 1074), match='719-266-2837'>]"
      ]
     },
     "execution_count": 63,
     "metadata": {},
     "output_type": "execute_result"
    }
   ],
   "source": [
    "results"
   ]
  },
  {
   "cell_type": "code",
   "execution_count": null,
   "metadata": {},
   "outputs": [],
   "source": []
  }
 ],
 "metadata": {
  "anaconda-cloud": {},
  "kernelspec": {
   "display_name": "Python 3",
   "language": "python",
   "name": "python3"
  },
  "language_info": {
   "codemirror_mode": {
    "name": "ipython",
    "version": 3
   },
   "file_extension": ".py",
   "mimetype": "text/x-python",
   "name": "python",
   "nbconvert_exporter": "python",
   "pygments_lexer": "ipython3",
   "version": "3.8.3"
  }
 },
 "nbformat": 4,
 "nbformat_minor": 2
}
